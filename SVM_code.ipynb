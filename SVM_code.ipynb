{
 "cells": [
  {
   "cell_type": "code",
   "execution_count": 95,
   "metadata": {},
   "outputs": [
    {
     "name": "stdout",
     "output_type": "stream",
     "text": [
      "Requirement already satisfied: pydub in c:\\users\\rahul\\anaconda3\\lib\\site-packages (0.25.1)\n"
     ]
    }
   ],
   "source": [
    "!pip install pydub"
   ]
  },
  {
   "cell_type": "code",
   "execution_count": 1,
   "metadata": {},
   "outputs": [
    {
     "name": "stderr",
     "output_type": "stream",
     "text": [
      "C:\\Users\\Rahul\\anaconda3\\lib\\site-packages\\pydub\\utils.py:170: RuntimeWarning: Couldn't find ffmpeg or avconv - defaulting to ffmpeg, but may not work\n",
      "  warn(\"Couldn't find ffmpeg or avconv - defaulting to ffmpeg, but may not work\", RuntimeWarning)\n"
     ]
    }
   ],
   "source": [
    "from python_speech_features import mfcc\n",
    "import scipy.io.wavfile as wav\n",
    "import numpy as np\n",
    "import pydub\n",
    "from tempfile import TemporaryFile\n",
    "import os\n",
    "import pickle\n",
    "import random \n",
    "import operator\n",
    "\n",
    "import math\n",
    "from sklearn import svm\n",
    "import sklearn.model_selection as model_selection\n",
    "from sklearn.metrics import accuracy_score\n",
    "from sklearn.metrics import f1_score\n",
    "import numpy as np"
   ]
  },
  {
   "cell_type": "code",
   "execution_count": 5,
   "metadata": {},
   "outputs": [],
   "source": [
    "directory = \"C:/Users/Rahul/Desktop/IndianS\"\n",
    "# assert os.path.isfile(directory)\n",
    "\n",
    "f= open(\"my.dat\" ,'wb')\n",
    "i=0\n",
    "y=[]\n",
    "for folder in os.listdir(directory):\n",
    "    i+=1\n",
    "    if i==6 :\n",
    "        break   \n",
    "    for file in os.listdir(directory+ \"/\" + folder):\n",
    "        #         print(file)  \n",
    "        (rate,sig) = wav.read(directory+\"/\"+folder+\"/\"+file)\n",
    "        mfcc_feat = mfcc(sig,rate ,winlen=0.020, appendEnergy = False)\n",
    "        covariance = np.cov(np.matrix.transpose(mfcc_feat))\n",
    "        mean_matrix = mfcc_feat.mean(0)\n",
    "        feature = np.concatenate((mean_matrix, covariance), axis=None)\n",
    "        y.append(i)\n",
    "        pickle.dump(feature , f)\n",
    "\n",
    "f.close()"
   ]
  },
  {
   "cell_type": "code",
   "execution_count": 6,
   "metadata": {},
   "outputs": [],
   "source": [
    "X = []\n",
    "with open(\"my.dat\", 'rb') as f:\n",
    "    while True:\n",
    "        try:\n",
    "            X.append(pickle.load(f))\n",
    "        except EOFError:\n",
    "            f.close()\n",
    "            break"
   ]
  },
  {
   "cell_type": "code",
   "execution_count": 7,
   "metadata": {},
   "outputs": [],
   "source": [
    "X_train, X_test, y_train, y_test = model_selection.train_test_split(X, y, train_size=0.80, test_size=0.20, random_state=101)"
   ]
  },
  {
   "cell_type": "code",
   "execution_count": 10,
   "metadata": {},
   "outputs": [],
   "source": [
    "from collections import defaultdict\n",
    "results = defaultdict(int)\n",
    "\n",
    "directory = \"C:/Users/Rahul/Desktop/IndianS\"\n",
    "\n",
    "i = 1\n",
    "for folder in os.listdir(directory):\n",
    "    results[i] = folder\n",
    "    i += 1"
   ]
  },
  {
   "cell_type": "code",
   "execution_count": 22,
   "metadata": {},
   "outputs": [
    {
     "name": "stdout",
     "output_type": "stream",
     "text": [
      "Ghazal\n",
      "0.64\n"
     ]
    }
   ],
   "source": [
    "linear = svm.SVC(kernel='linear', gamma=0.2, C = 0.2).fit(X_train, y_train)\n",
    "linear_pred=linear.predict(X_test)\n",
    "linear_accuracy = accuracy_score(y_test, linear_pred)\n",
    "print(results[linear_pred[4]])\n",
    "print(linear_accuracy)"
   ]
  },
  {
   "cell_type": "code",
   "execution_count": null,
   "metadata": {},
   "outputs": [],
   "source": []
  },
  {
   "cell_type": "code",
   "execution_count": null,
   "metadata": {},
   "outputs": [],
   "source": []
  }
 ],
 "metadata": {
  "kernelspec": {
   "display_name": "Python 3 (ipykernel)",
   "language": "python",
   "name": "python3"
  },
  "language_info": {
   "codemirror_mode": {
    "name": "ipython",
    "version": 3
   },
   "file_extension": ".py",
   "mimetype": "text/x-python",
   "name": "python",
   "nbconvert_exporter": "python",
   "pygments_lexer": "ipython3",
   "version": "3.9.13"
  }
 },
 "nbformat": 4,
 "nbformat_minor": 4
}
